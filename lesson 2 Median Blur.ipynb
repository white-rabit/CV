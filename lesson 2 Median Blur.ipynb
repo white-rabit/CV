{
 "cells": [
  {
   "cell_type": "code",
   "execution_count": 46,
   "metadata": {
    "collapsed": true
   },
   "outputs": [],
   "source": [
    "import cv2\n",
    "import random\n",
    "import numpy as np\n",
    "from matplotlib import pyplot as plt"
   ]
  },
  {
   "cell_type": "code",
   "execution_count": 58,
   "metadata": {},
   "outputs": [],
   "source": [
    "def medianBlur(img, kernel, padding_way):\n",
    "    \n",
    "    pad_method = ('constant' if padding_way =='ZERO' else 'edge')\n",
    "    pad_size = (kernel[0]//2,kernel[1]//2)\n",
    "\n",
    "    img = np.pad(img,(pad_size),pad_method)\n",
    "\n",
    "    for i in range(pad_size[0],(img.shape[0]-pad_size[0])):\n",
    "        for j in range(pad_size[1],(img.shape[1]-pad_size[1])):\n",
    "            img[i,j]=np.median(img[i-pad_size[0]:i+pad_size[0]+1,j-pad_size[1]:j+pad_size[1]+1])\n",
    "   \n",
    "    return img[pad_size[0]:img.shape[0]-pad_size[0],pad_size[1]:img.shape[1]-pad_size[1]]"
   ]
  },
  {
   "cell_type": "code",
   "execution_count": 66,
   "metadata": {},
   "outputs": [
    {
     "name": "stdout",
     "output_type": "stream",
     "text": [
      "constant\n"
     ]
    }
   ],
   "source": [
    "img_grey = cv2.imread('lenna.jpg',0)\n",
    "kernel=(5,5)\n",
    "padding_way = 'ZERO'\n",
    "\n",
    "img_1 = medianBlur(img_grey,kernel,padding_way)\n",
    "\n",
    "cv2.imshow('lenna_blur',img_1)\n",
    "\n",
    "key = cv2.waitKey()\n",
    "if key == 27:\n",
    "    cv2.destroyAllWindows()\n"
   ]
  },
  {
   "cell_type": "code",
   "execution_count": 64,
   "metadata": {
    "collapsed": true
   },
   "outputs": [],
   "source": [
    "img_2 = cv2.medianBlur(img_grey,5)\n",
    "cv2.imshow('lenna_blur',img_2)\n",
    "\n",
    "key = cv2.waitKey()\n",
    "if key == 27:\n",
    "    cv2.destroyAllWindows()"
   ]
  },
  {
   "cell_type": "code",
   "execution_count": null,
   "metadata": {
    "collapsed": true
   },
   "outputs": [],
   "source": []
  }
 ],
 "metadata": {
  "kernelspec": {
   "display_name": "Python 3",
   "language": "python",
   "name": "python3"
  },
  "language_info": {
   "codemirror_mode": {
    "name": "ipython",
    "version": 3
   },
   "file_extension": ".py",
   "mimetype": "text/x-python",
   "name": "python",
   "nbconvert_exporter": "python",
   "pygments_lexer": "ipython3",
   "version": "3.6.2"
  }
 },
 "nbformat": 4,
 "nbformat_minor": 2
}
